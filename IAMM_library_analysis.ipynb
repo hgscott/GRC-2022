{
 "cells": [
  {
   "cell_type": "markdown",
   "metadata": {},
   "source": [
    "# Carbon Use Efficiency of Marine Heterotrophs"
   ]
  },
  {
   "cell_type": "code",
   "execution_count": 1,
   "metadata": {},
   "outputs": [],
   "source": [
    "import cobra\n",
    "import os\n",
    "import pandas as pd"
   ]
  },
  {
   "cell_type": "code",
   "execution_count": 2,
   "metadata": {},
   "outputs": [],
   "source": [
    "import gem2cue.utils\n",
    "import gem2cue.calculate_cue"
   ]
  },
  {
   "cell_type": "markdown",
   "metadata": {},
   "source": [
    "## Set-up"
   ]
  },
  {
   "cell_type": "code",
   "execution_count": 3,
   "metadata": {},
   "outputs": [],
   "source": [
    "# Read in the meta-data file as a data frame\n",
    "meta_df = pd.read_csv('IAMM_models/strain_metadata.tsv', sep='\\t')"
   ]
  },
  {
   "cell_type": "code",
   "execution_count": 4,
   "metadata": {},
   "outputs": [
    {
     "data": {
      "text/html": [
       "<div>\n",
       "<style scoped>\n",
       "    .dataframe tbody tr th:only-of-type {\n",
       "        vertical-align: middle;\n",
       "    }\n",
       "\n",
       "    .dataframe tbody tr th {\n",
       "        vertical-align: top;\n",
       "    }\n",
       "\n",
       "    .dataframe thead th {\n",
       "        text-align: right;\n",
       "    }\n",
       "</style>\n",
       "<table border=\"1\" class=\"dataframe\">\n",
       "  <thead>\n",
       "    <tr style=\"text-align: right;\">\n",
       "      <th></th>\n",
       "      <th>strain</th>\n",
       "      <th>RefSeq_assembly_accession</th>\n",
       "      <th>model_file</th>\n",
       "      <th>gc_content</th>\n",
       "      <th>genome_length</th>\n",
       "    </tr>\n",
       "  </thead>\n",
       "  <tbody>\n",
       "    <tr>\n",
       "      <th>0</th>\n",
       "      <td>Bork</td>\n",
       "      <td>GCF_000009365.1</td>\n",
       "      <td>Bork-LB.xml</td>\n",
       "      <td>0.547278</td>\n",
       "      <td>3120143</td>\n",
       "    </tr>\n",
       "    <tr>\n",
       "      <th>1</th>\n",
       "      <td>Dies</td>\n",
       "      <td>GCF_000300005.1</td>\n",
       "      <td>Dies-LB.xml</td>\n",
       "      <td>0.616316</td>\n",
       "      <td>4928223</td>\n",
       "    </tr>\n",
       "    <tr>\n",
       "      <th>2</th>\n",
       "      <td>Hot1A3</td>\n",
       "      <td>GCF_001578515.1</td>\n",
       "      <td>Hot1A3-LB.xml</td>\n",
       "      <td>0.446714</td>\n",
       "      <td>4801807</td>\n",
       "    </tr>\n",
       "    <tr>\n",
       "      <th>3</th>\n",
       "      <td>BS11</td>\n",
       "      <td>GCF_000299995.1</td>\n",
       "      <td>BS11-LB.xml</td>\n",
       "      <td>0.446078</td>\n",
       "      <td>4480507</td>\n",
       "    </tr>\n",
       "    <tr>\n",
       "      <th>4</th>\n",
       "      <td>DE</td>\n",
       "      <td>GCF_000310085.1</td>\n",
       "      <td>DE-LB.xml</td>\n",
       "      <td>0.448687</td>\n",
       "      <td>4480937</td>\n",
       "    </tr>\n",
       "    <tr>\n",
       "      <th>5</th>\n",
       "      <td>Cstat</td>\n",
       "      <td>GCF_001561975.1</td>\n",
       "      <td>Cstat-LB.xml</td>\n",
       "      <td>0.548907</td>\n",
       "      <td>2862233</td>\n",
       "    </tr>\n",
       "    <tr>\n",
       "      <th>6</th>\n",
       "      <td>DFL12</td>\n",
       "      <td>GCF_000018145</td>\n",
       "      <td>DFL12-LB.xml</td>\n",
       "      <td>0.655246</td>\n",
       "      <td>4417868</td>\n",
       "    </tr>\n",
       "    <tr>\n",
       "      <th>7</th>\n",
       "      <td>Kuro</td>\n",
       "      <td>GCF_000425705.1</td>\n",
       "      <td>Kuro-LB.xml</td>\n",
       "      <td>0.470156</td>\n",
       "      <td>3850372</td>\n",
       "    </tr>\n",
       "    <tr>\n",
       "      <th>8</th>\n",
       "      <td>HP15</td>\n",
       "      <td>GCF_000166295.1</td>\n",
       "      <td>HP15-LB.xml</td>\n",
       "      <td>0.568599</td>\n",
       "      <td>4651725</td>\n",
       "    </tr>\n",
       "    <tr>\n",
       "      <th>9</th>\n",
       "      <td>MMB1</td>\n",
       "      <td>GCF_000192865.1</td>\n",
       "      <td>MMB1-LB.xml</td>\n",
       "      <td>0.441275</td>\n",
       "      <td>4684316</td>\n",
       "    </tr>\n",
       "    <tr>\n",
       "      <th>10</th>\n",
       "      <td>Abie</td>\n",
       "      <td>GCF_900100795.1</td>\n",
       "      <td>Abie-LB.xml</td>\n",
       "      <td>0.594365</td>\n",
       "      <td>7222451</td>\n",
       "    </tr>\n",
       "    <tr>\n",
       "      <th>11</th>\n",
       "      <td>DSS-3</td>\n",
       "      <td>GCF_000011965.2</td>\n",
       "      <td>DSS-3-LB.xml</td>\n",
       "      <td>0.640696</td>\n",
       "      <td>4601048</td>\n",
       "    </tr>\n",
       "  </tbody>\n",
       "</table>\n",
       "</div>"
      ],
      "text/plain": [
       "    strain RefSeq_assembly_accession     model_file  gc_content  genome_length\n",
       "0     Bork           GCF_000009365.1    Bork-LB.xml    0.547278        3120143\n",
       "1     Dies           GCF_000300005.1    Dies-LB.xml    0.616316        4928223\n",
       "2   Hot1A3           GCF_001578515.1  Hot1A3-LB.xml    0.446714        4801807\n",
       "3     BS11           GCF_000299995.1    BS11-LB.xml    0.446078        4480507\n",
       "4       DE           GCF_000310085.1      DE-LB.xml    0.448687        4480937\n",
       "5    Cstat           GCF_001561975.1   Cstat-LB.xml    0.548907        2862233\n",
       "6    DFL12             GCF_000018145   DFL12-LB.xml    0.655246        4417868\n",
       "7     Kuro           GCF_000425705.1    Kuro-LB.xml    0.470156        3850372\n",
       "8     HP15           GCF_000166295.1    HP15-LB.xml    0.568599        4651725\n",
       "9     MMB1           GCF_000192865.1    MMB1-LB.xml    0.441275        4684316\n",
       "10    Abie           GCF_900100795.1    Abie-LB.xml    0.594365        7222451\n",
       "11   DSS-3           GCF_000011965.2   DSS-3-LB.xml    0.640696        4601048"
      ]
     },
     "execution_count": 4,
     "metadata": {},
     "output_type": "execute_result"
    }
   ],
   "source": [
    "meta_df"
   ]
  },
  {
   "cell_type": "code",
   "execution_count": 5,
   "metadata": {},
   "outputs": [],
   "source": [
    "# List the file name of all of the models I made from NCBI faas\n",
    "# The file name is the assembly accession number\n",
    "avail_models = [os.path.splitext(f)[0] for f in os.listdir(os.path.join('IAMM_models', 'faa_from_ncbi'))]"
   ]
  },
  {
   "cell_type": "code",
   "execution_count": 6,
   "metadata": {},
   "outputs": [
    {
     "name": "stdout",
     "output_type": "stream",
     "text": [
      "Scaling...\n",
      " A: min|aij| =  1.000e+00  max|aij| =  1.000e+00  ratio =  1.000e+00\n",
      "Problem data seem to be well scaled\n"
     ]
    }
   ],
   "source": [
    "# For each row, make a Strain object with the model and metadata from the file\n",
    "strain_list = []\n",
    "for index, row in meta_df.iterrows():\n",
    "    # Only make the strain if we have the model for it\n",
    "    if row['RefSeq_assembly_accession'] in avail_models:\n",
    "        strain_list.append(gem2cue.utils.Strain(row['strain'],\n",
    "                                                cobra.io.read_sbml_model(os.path.join('IAMM_models', 'faa_from_ncbi', row['RefSeq_assembly_accession']) + '.xml'),\n",
    "                                                row['gc_content'],\n",
    "                                                row['genome_length']))"
   ]
  },
  {
   "cell_type": "markdown",
   "metadata": {},
   "source": [
    "## Analysis"
   ]
  },
  {
   "cell_type": "markdown",
   "metadata": {},
   "source": [
    "### Experiment 0: Unconstrained"
   ]
  },
  {
   "cell_type": "code",
   "execution_count": 7,
   "metadata": {},
   "outputs": [],
   "source": [
    "# Make an experiment for each Strain\n",
    "unconstrained_experiments = [gem2cue.utils.Experiment(strain) for strain in strain_list]"
   ]
  },
  {
   "cell_type": "code",
   "execution_count": 8,
   "metadata": {},
   "outputs": [],
   "source": [
    "# Calculate CUE for all of the Experiments\n",
    "for exp in unconstrained_experiments:\n",
    "    exp.CUE(ex_nomenclature = {'C_e'})"
   ]
  },
  {
   "cell_type": "code",
   "execution_count": 10,
   "metadata": {},
   "outputs": [
    {
     "data": {
      "text/plain": [
       "{'Dies': 0.953807672517817,\n",
       " 'Hot1A3': 0.9381487345462173,\n",
       " 'BS11': 0.9341523289656387,\n",
       " 'DE': 0.8966798579175352,\n",
       " 'Cstat': 0.8961445703250691,\n",
       " 'Kuro': 0.9154150701003737,\n",
       " 'HP15': 0.9319850981515869,\n",
       " 'Abie': 0.8985223400827563,\n",
       " 'DSS-3': 0.9259476445012083}"
      ]
     },
     "execution_count": 10,
     "metadata": {},
     "output_type": "execute_result"
    }
   ],
   "source": [
    "# Pull out all of the CUE results\n",
    "{exp.strain.name: exp.cue for exp in unconstrained_experiments}"
   ]
  },
  {
   "cell_type": "markdown",
   "metadata": {},
   "source": [
    "### Experiment 1: Glucose\n",
    "The media on the COBRApy model already has 1000 for the glucose, so just run it\n",
    "unconstrained."
   ]
  },
  {
   "cell_type": "code",
   "execution_count": null,
   "metadata": {},
   "outputs": [],
   "source": [
    "print(strain_list[0].model.medium)"
   ]
  },
  {
   "cell_type": "code",
   "execution_count": null,
   "metadata": {},
   "outputs": [],
   "source": [
    "# Make the medium\n",
    "gluc_media = None"
   ]
  },
  {
   "cell_type": "code",
   "execution_count": null,
   "metadata": {},
   "outputs": [],
   "source": [
    "# Make an experiment for each Strain\n",
    "glucose_experiments = [gem2cue.utils.Experiment(strain) for strain in strain_list]"
   ]
  },
  {
   "cell_type": "code",
   "execution_count": null,
   "metadata": {},
   "outputs": [],
   "source": [
    "# Calculate CUE for all of the Experiments\n",
    "for exp in glucose_experiments:\n",
    "    exp.CUE(ex_nomenclature = {'C_e'})"
   ]
  },
  {
   "cell_type": "code",
   "execution_count": null,
   "metadata": {},
   "outputs": [],
   "source": [
    "[exp.cue for exp in glucose_experiments]"
   ]
  },
  {
   "cell_type": "markdown",
   "metadata": {},
   "source": [
    "### Experiment 2: Acetate"
   ]
  },
  {
   "cell_type": "code",
   "execution_count": null,
   "metadata": {},
   "outputs": [],
   "source": [
    "# Copy the medium from one of the models\n",
    "ace_media = strain_list[0].model.medium\n",
    "# It already has acetate, just need to remove glucose\n",
    "ace_media['EX_glc__D_e'] = 0"
   ]
  },
  {
   "cell_type": "code",
   "execution_count": null,
   "metadata": {},
   "outputs": [],
   "source": [
    "# Make an experiment for each Strain\n",
    "ace_experiments = [gem2cue.utils.Experiment(strain, ace_media) for strain in strain_list]"
   ]
  },
  {
   "cell_type": "code",
   "execution_count": null,
   "metadata": {},
   "outputs": [],
   "source": [
    "# Calculate CUE for all of the Experiments\n",
    "for exp in ace_experiments:\n",
    "    exp.CUE(ex_nomenclature = {'C_e'})"
   ]
  },
  {
   "cell_type": "code",
   "execution_count": null,
   "metadata": {},
   "outputs": [],
   "source": [
    "[exp.cue for exp in ace_experiments]"
   ]
  },
  {
   "cell_type": "markdown",
   "metadata": {},
   "source": [
    "## Visualization"
   ]
  }
 ],
 "metadata": {
  "interpreter": {
   "hash": "065710dd644577000ae0455ed90b8fe02912ddb5a014f65b24543f17874c118c"
  },
  "kernelspec": {
   "display_name": "Python 3.10.2 ('CUE')",
   "language": "python",
   "name": "python3"
  },
  "language_info": {
   "codemirror_mode": {
    "name": "ipython",
    "version": 3
   },
   "file_extension": ".py",
   "mimetype": "text/x-python",
   "name": "python",
   "nbconvert_exporter": "python",
   "pygments_lexer": "ipython3",
   "version": "3.10.2"
  },
  "orig_nbformat": 4
 },
 "nbformat": 4,
 "nbformat_minor": 2
}
