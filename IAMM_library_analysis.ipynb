{
 "cells": [
  {
   "cell_type": "markdown",
   "metadata": {},
   "source": [
    "# Carbon Use Efficiency of Marine Heterotrophs"
   ]
  },
  {
   "cell_type": "code",
   "execution_count": 1,
   "metadata": {},
   "outputs": [],
   "source": [
    "import cobra\n",
    "import os\n",
    "import pandas as pd"
   ]
  },
  {
   "cell_type": "code",
   "execution_count": 4,
   "metadata": {},
   "outputs": [
    {
     "name": "stdout",
     "output_type": "stream",
     "text": [
      "Obtaining file:///home/helen/Documents/PhD/Segre%20Lab/GEM2CUE\n",
      "Installing collected packages: GEM2CUE\n",
      "  Running setup.py develop for GEM2CUE\n",
      "Successfully installed GEM2CUE-0.1.dev0\n"
     ]
    }
   ],
   "source": [
    "# Local install of gem2cue\n",
    "# Should only need to be run once\n",
    "# !python -m pip install -e /home/helen/Documents/PhD/Segre\\ Lab/GEM2CUE"
   ]
  },
  {
   "cell_type": "code",
   "execution_count": 2,
   "metadata": {},
   "outputs": [],
   "source": [
    "import gem2cue.utils"
   ]
  },
  {
   "cell_type": "markdown",
   "metadata": {},
   "source": [
    "## Set-up"
   ]
  },
  {
   "cell_type": "code",
   "execution_count": 3,
   "metadata": {},
   "outputs": [
    {
     "data": {
      "text/html": [
       "<div>\n",
       "<style scoped>\n",
       "    .dataframe tbody tr th:only-of-type {\n",
       "        vertical-align: middle;\n",
       "    }\n",
       "\n",
       "    .dataframe tbody tr th {\n",
       "        vertical-align: top;\n",
       "    }\n",
       "\n",
       "    .dataframe thead th {\n",
       "        text-align: right;\n",
       "    }\n",
       "</style>\n",
       "<table border=\"1\" class=\"dataframe\">\n",
       "  <thead>\n",
       "    <tr style=\"text-align: right;\">\n",
       "      <th></th>\n",
       "      <th>strain</th>\n",
       "      <th>model_file</th>\n",
       "      <th>gc_content</th>\n",
       "      <th>genome_length</th>\n",
       "      <th>memote_score</th>\n",
       "      <th>purely_met_rxns</th>\n",
       "    </tr>\n",
       "  </thead>\n",
       "  <tbody>\n",
       "    <tr>\n",
       "      <th>0</th>\n",
       "      <td>Bork</td>\n",
       "      <td>Bork-LB.xml</td>\n",
       "      <td>0.547278</td>\n",
       "      <td>3120143</td>\n",
       "      <td>0.87</td>\n",
       "      <td>0.6515</td>\n",
       "    </tr>\n",
       "    <tr>\n",
       "      <th>1</th>\n",
       "      <td>Dies</td>\n",
       "      <td>Dies-LB.xml</td>\n",
       "      <td>0.616316</td>\n",
       "      <td>4928223</td>\n",
       "      <td>0.70</td>\n",
       "      <td>0.5889</td>\n",
       "    </tr>\n",
       "    <tr>\n",
       "      <th>2</th>\n",
       "      <td>Hot1A3</td>\n",
       "      <td>Hot1A3-LB.xml</td>\n",
       "      <td>0.446714</td>\n",
       "      <td>4801807</td>\n",
       "      <td>0.71</td>\n",
       "      <td>0.5993</td>\n",
       "    </tr>\n",
       "    <tr>\n",
       "      <th>3</th>\n",
       "      <td>BS11</td>\n",
       "      <td>BS11-LB.xml</td>\n",
       "      <td>0.446078</td>\n",
       "      <td>4480507</td>\n",
       "      <td>0.71</td>\n",
       "      <td>0.6106</td>\n",
       "    </tr>\n",
       "    <tr>\n",
       "      <th>4</th>\n",
       "      <td>DE</td>\n",
       "      <td>DE-LB.xml</td>\n",
       "      <td>0.448687</td>\n",
       "      <td>4480937</td>\n",
       "      <td>0.70</td>\n",
       "      <td>0.6163</td>\n",
       "    </tr>\n",
       "    <tr>\n",
       "      <th>5</th>\n",
       "      <td>Cstat</td>\n",
       "      <td>Cstat-LB.xml</td>\n",
       "      <td>0.548907</td>\n",
       "      <td>2862233</td>\n",
       "      <td>0.71</td>\n",
       "      <td>0.5887</td>\n",
       "    </tr>\n",
       "    <tr>\n",
       "      <th>6</th>\n",
       "      <td>DFL12</td>\n",
       "      <td>DFL12-LB.xml</td>\n",
       "      <td>0.655246</td>\n",
       "      <td>4417868</td>\n",
       "      <td>0.71</td>\n",
       "      <td>0.6266</td>\n",
       "    </tr>\n",
       "    <tr>\n",
       "      <th>7</th>\n",
       "      <td>Kuro</td>\n",
       "      <td>Kuro-LB.xml</td>\n",
       "      <td>0.470156</td>\n",
       "      <td>3850372</td>\n",
       "      <td>0.87</td>\n",
       "      <td>0.6224</td>\n",
       "    </tr>\n",
       "    <tr>\n",
       "      <th>8</th>\n",
       "      <td>HP15</td>\n",
       "      <td>HP15-LB.xml</td>\n",
       "      <td>0.568599</td>\n",
       "      <td>4651725</td>\n",
       "      <td>0.87</td>\n",
       "      <td>0.6182</td>\n",
       "    </tr>\n",
       "    <tr>\n",
       "      <th>9</th>\n",
       "      <td>MMB1</td>\n",
       "      <td>MMB1-LB.xml</td>\n",
       "      <td>0.441275</td>\n",
       "      <td>4684316</td>\n",
       "      <td>0.70</td>\n",
       "      <td>0.5675</td>\n",
       "    </tr>\n",
       "    <tr>\n",
       "      <th>10</th>\n",
       "      <td>Abie</td>\n",
       "      <td>Abie-LB.xml</td>\n",
       "      <td>0.594365</td>\n",
       "      <td>7222451</td>\n",
       "      <td>0.87</td>\n",
       "      <td>0.5790</td>\n",
       "    </tr>\n",
       "    <tr>\n",
       "      <th>11</th>\n",
       "      <td>DSS-3</td>\n",
       "      <td>DSS-3-LB.xml</td>\n",
       "      <td>0.640696</td>\n",
       "      <td>4601048</td>\n",
       "      <td>0.70</td>\n",
       "      <td>0.6249</td>\n",
       "    </tr>\n",
       "    <tr>\n",
       "      <th>12</th>\n",
       "      <td>atlcs</td>\n",
       "      <td>atlcs-LB.xml</td>\n",
       "      <td>0.339000</td>\n",
       "      <td>2952962</td>\n",
       "      <td>0.88</td>\n",
       "      <td>0.6390</td>\n",
       "    </tr>\n",
       "    <tr>\n",
       "      <th>13</th>\n",
       "      <td>eryth</td>\n",
       "      <td>eryth-LB.xml</td>\n",
       "      <td>0.623083</td>\n",
       "      <td>6895538</td>\n",
       "      <td>0.70</td>\n",
       "      <td>0.6249</td>\n",
       "    </tr>\n",
       "    <tr>\n",
       "      <th>14</th>\n",
       "      <td>Pga11</td>\n",
       "      <td>Pga11-LB.xml</td>\n",
       "      <td>0.594374</td>\n",
       "      <td>4540155</td>\n",
       "      <td>0.70</td>\n",
       "      <td>0.6075</td>\n",
       "    </tr>\n",
       "    <tr>\n",
       "      <th>15</th>\n",
       "      <td>Phalo</td>\n",
       "      <td>Phalo-LB.xml</td>\n",
       "      <td>0.400917</td>\n",
       "      <td>3850272</td>\n",
       "      <td>0.71</td>\n",
       "      <td>0.5463</td>\n",
       "    </tr>\n",
       "    <tr>\n",
       "      <th>16</th>\n",
       "      <td>Salex</td>\n",
       "      <td>Salex-LB.xml</td>\n",
       "      <td>0.607863</td>\n",
       "      <td>4258722</td>\n",
       "      <td>0.87</td>\n",
       "      <td>0.6169</td>\n",
       "    </tr>\n",
       "    <tr>\n",
       "      <th>17</th>\n",
       "      <td>Ser</td>\n",
       "      <td>Ser-LB.xml</td>\n",
       "      <td>0.492348</td>\n",
       "      <td>4947661</td>\n",
       "      <td>0.86</td>\n",
       "      <td>0.5074</td>\n",
       "    </tr>\n",
       "    <tr>\n",
       "      <th>18</th>\n",
       "      <td>T6C</td>\n",
       "      <td>T6C-LB.xml</td>\n",
       "      <td>0.446161</td>\n",
       "      <td>5187005</td>\n",
       "      <td>0.71</td>\n",
       "      <td>0.6091</td>\n",
       "    </tr>\n",
       "    <tr>\n",
       "      <th>19</th>\n",
       "      <td>Woodyi</td>\n",
       "      <td>Woodyi-LB.xml</td>\n",
       "      <td>0.437010</td>\n",
       "      <td>5935403</td>\n",
       "      <td>0.87</td>\n",
       "      <td>0.5591</td>\n",
       "    </tr>\n",
       "  </tbody>\n",
       "</table>\n",
       "</div>"
      ],
      "text/plain": [
       "    strain     model_file  gc_content  genome_length  memote_score  \\\n",
       "0     Bork    Bork-LB.xml    0.547278        3120143          0.87   \n",
       "1     Dies    Dies-LB.xml    0.616316        4928223          0.70   \n",
       "2   Hot1A3  Hot1A3-LB.xml    0.446714        4801807          0.71   \n",
       "3     BS11    BS11-LB.xml    0.446078        4480507          0.71   \n",
       "4       DE      DE-LB.xml    0.448687        4480937          0.70   \n",
       "5    Cstat   Cstat-LB.xml    0.548907        2862233          0.71   \n",
       "6    DFL12   DFL12-LB.xml    0.655246        4417868          0.71   \n",
       "7     Kuro    Kuro-LB.xml    0.470156        3850372          0.87   \n",
       "8     HP15    HP15-LB.xml    0.568599        4651725          0.87   \n",
       "9     MMB1    MMB1-LB.xml    0.441275        4684316          0.70   \n",
       "10    Abie    Abie-LB.xml    0.594365        7222451          0.87   \n",
       "11   DSS-3   DSS-3-LB.xml    0.640696        4601048          0.70   \n",
       "12   atlcs   atlcs-LB.xml    0.339000        2952962          0.88   \n",
       "13   eryth   eryth-LB.xml    0.623083        6895538          0.70   \n",
       "14   Pga11   Pga11-LB.xml    0.594374        4540155          0.70   \n",
       "15   Phalo   Phalo-LB.xml    0.400917        3850272          0.71   \n",
       "16   Salex   Salex-LB.xml    0.607863        4258722          0.87   \n",
       "17     Ser     Ser-LB.xml    0.492348        4947661          0.86   \n",
       "18     T6C     T6C-LB.xml    0.446161        5187005          0.71   \n",
       "19  Woodyi  Woodyi-LB.xml    0.437010        5935403          0.87   \n",
       "\n",
       "    purely_met_rxns  \n",
       "0            0.6515  \n",
       "1            0.5889  \n",
       "2            0.5993  \n",
       "3            0.6106  \n",
       "4            0.6163  \n",
       "5            0.5887  \n",
       "6            0.6266  \n",
       "7            0.6224  \n",
       "8            0.6182  \n",
       "9            0.5675  \n",
       "10           0.5790  \n",
       "11           0.6249  \n",
       "12           0.6390  \n",
       "13           0.6249  \n",
       "14           0.6075  \n",
       "15           0.5463  \n",
       "16           0.6169  \n",
       "17           0.5074  \n",
       "18           0.6091  \n",
       "19           0.5591  "
      ]
     },
     "execution_count": 3,
     "metadata": {},
     "output_type": "execute_result"
    }
   ],
   "source": [
    "# Read in the meta-data file as a data frame\n",
    "meta_df = pd.read_csv('IAMM_models/strain_metadata.tsv', sep='\\t')\n",
    "meta_df"
   ]
  },
  {
   "cell_type": "code",
   "execution_count": 4,
   "metadata": {},
   "outputs": [
    {
     "name": "stdout",
     "output_type": "stream",
     "text": [
      "Scaling...\n",
      " A: min|aij| =  1.000e+00  max|aij| =  1.000e+00  ratio =  1.000e+00\n",
      "Problem data seem to be well scaled\n"
     ]
    }
   ],
   "source": [
    "# For each row, make a Strain object with the model and metadata from the table\n",
    "strain_list = []\n",
    "for index, row in meta_df.iterrows():\n",
    "    strain_list.append(gem2cue.utils.Strain(row['strain'],\n",
    "                                            cobra.io.read_sbml_model(os.path.join('IAMM_models', 'models', row['model_file'])),\n",
    "                                            {'GC Content': row['gc_content'],\n",
    "                                            'Genome Length': row['genome_length'],\n",
    "                                            'Memote Score': row['memote_score'],\n",
    "                                            'Purely Metabolic Rxns': row['purely_met_rxns']}))"
   ]
  },
  {
   "cell_type": "markdown",
   "metadata": {},
   "source": [
    "## Analysis"
   ]
  },
  {
   "cell_type": "markdown",
   "metadata": {},
   "source": [
    "### Experiment 0: Unconstrained"
   ]
  },
  {
   "cell_type": "code",
   "execution_count": 11,
   "metadata": {},
   "outputs": [],
   "source": [
    "# Make an experiment for each Strain\n",
    "unconstrained_experiments = [gem2cue.utils.Experiment(strain) for strain in strain_list]"
   ]
  },
  {
   "cell_type": "code",
   "execution_count": 12,
   "metadata": {},
   "outputs": [],
   "source": [
    "# Calculate CUE for all of the Experiments\n",
    "for exp in unconstrained_experiments:\n",
    "    exp.CUE(ex_nomenclature = {'C_e'})"
   ]
  },
  {
   "cell_type": "code",
   "execution_count": 13,
   "metadata": {},
   "outputs": [
    {
     "data": {
      "text/plain": [
       "{'Bork': 0.902403441064068,\n",
       " 'Dies': 0.9686221560132082,\n",
       " 'Hot1A3': 0.920737201394963,\n",
       " 'BS11': 0.936910828774397,\n",
       " 'DE': 0.9022178607994155,\n",
       " 'Cstat': 0.9492155844123638,\n",
       " 'DFL12': 0.9658093219636261,\n",
       " 'Kuro': 0.9438306696383395,\n",
       " 'HP15': 0.9490527145104481,\n",
       " 'MMB1': 0.950380039479828,\n",
       " 'Abie': 0.9467016899808219,\n",
       " 'DSS-3': 0.9418195790866428,\n",
       " 'atlcs': 0.8648487501483723,\n",
       " 'eryth': 0.9194099089851129,\n",
       " 'Pga11': 0.8681636803969982,\n",
       " 'Phalo': 0.9118282986366658,\n",
       " 'Salex': 0.9374180131412205,\n",
       " 'Ser': 0.9762760896075,\n",
       " 'T6C': 0.9405611264348838,\n",
       " 'Woodyi': 0.9422289557910769}"
      ]
     },
     "execution_count": 13,
     "metadata": {},
     "output_type": "execute_result"
    }
   ],
   "source": [
    "# Pull out all of the CUE results\n",
    "{exp.strain.name: exp.cue for exp in unconstrained_experiments}"
   ]
  },
  {
   "cell_type": "markdown",
   "metadata": {},
   "source": [
    "### Experiment 1: Glucose\n",
    "Define a medium where glucose is the only carbon source."
   ]
  },
  {
   "cell_type": "code",
   "execution_count": 5,
   "metadata": {},
   "outputs": [],
   "source": [
    "# Define a larger \"minimal\" media\n",
    "gluc_medium = gem2cue.utils.Media({\n",
    " 'EX_aso3_e': 1000.0,\n",
    " 'EX_aso4_e': 1000.0,\n",
    " 'EX_ca2_e': 1000.0,\n",
    " 'EX_cl_e': 1000.0,\n",
    " 'EX_cobalt2_e': 1000.0,\n",
    " 'EX_cu2_e': 1000.0,\n",
    " 'EX_fe2_e': 1000.0,\n",
    " 'EX_fe3_e': 1000.0,\n",
    " 'EX_glc__D_e': 1000.0, # Glucose\n",
    " 'EX_glc__aD_e': 1000.0, # Alpha glucose\n",
    " 'EX_h2_e': 1000.0,\n",
    " 'EX_h2o2_e': 1000.0,\n",
    " 'EX_h2o_e': 1000.0,\n",
    " 'EX_h2s_e': 1000.0,\n",
    " 'EX_h_e': 1000.0,\n",
    " 'EX_k_e': 1000.0,\n",
    " 'EX_mg2_e': 1000.0,\n",
    " 'EX_mn2_e': 1000.0,\n",
    " 'EX_mobd_e': 1000.0,\n",
    " 'EX_nh4_e': 1000.0,\n",
    " 'EX_no2_e': 1000.0,\n",
    " 'EX_no3_e': 1000.0,\n",
    " 'EX_no_e': 1000.0,\n",
    " 'EX_o2_e': 1000.0,\n",
    " 'EX_pi_e': 1000.0,\n",
    " 'EX_ppi_e': 1000.0, # Diphosphate\n",
    " 'EX_sel_e': 1000.0,\n",
    " 'EX_slnt_e': 1000.0,\n",
    " 'EX_so3_e': 1000.0,\n",
    " 'EX_so4_e': 1000.0,\n",
    " 'EX_tsul_e': 1000.0,\n",
    " 'EX_zn2_e': 1000.0})"
   ]
  },
  {
   "cell_type": "code",
   "execution_count": 6,
   "metadata": {},
   "outputs": [],
   "source": [
    "# Make an experiment for each Strain\n",
    "glucose_experiments = [gem2cue.utils.Experiment(strain, media=gluc_medium) for strain in strain_list]"
   ]
  },
  {
   "cell_type": "code",
   "execution_count": 10,
   "metadata": {},
   "outputs": [
    {
     "data": {
      "text/plain": [
       "{'EX_aso3_e': 1000.0,\n",
       " 'EX_aso4_e': 1000.0,\n",
       " 'EX_ca2_e': 1000.0,\n",
       " 'EX_cl_e': 1000.0,\n",
       " 'EX_cobalt2_e': 1000.0,\n",
       " 'EX_cu2_e': 1000.0,\n",
       " 'EX_fe2_e': 1000.0,\n",
       " 'EX_fe3_e': 1000.0,\n",
       " 'EX_glc__D_e': 1000.0,\n",
       " 'EX_h2_e': 1000.0,\n",
       " 'EX_h2o2_e': 1000.0,\n",
       " 'EX_h2o_e': 1000.0,\n",
       " 'EX_h2s_e': 1000.0,\n",
       " 'EX_h_e': 1000.0,\n",
       " 'EX_k_e': 1000.0,\n",
       " 'EX_mg2_e': 1000.0,\n",
       " 'EX_mn2_e': 1000.0,\n",
       " 'EX_mobd_e': 1000.0,\n",
       " 'EX_nh4_e': 1000.0,\n",
       " 'EX_no2_e': 1000.0,\n",
       " 'EX_no3_e': 1000.0,\n",
       " 'EX_no_e': 1000.0,\n",
       " 'EX_o2_e': 1000.0,\n",
       " 'EX_pi_e': 1000.0,\n",
       " 'EX_so3_e': 1000.0,\n",
       " 'EX_so4_e': 1000.0,\n",
       " 'EX_tsul_e': 1000.0,\n",
       " 'EX_zn2_e': 1000.0}"
      ]
     },
     "execution_count": 10,
     "metadata": {},
     "output_type": "execute_result"
    }
   ],
   "source": [
    "glucose_experiments[0].strain.model.medium"
   ]
  },
  {
   "cell_type": "code",
   "execution_count": 11,
   "metadata": {},
   "outputs": [],
   "source": [
    "glucose_experiments[0].select_media()"
   ]
  },
  {
   "cell_type": "code",
   "execution_count": 12,
   "metadata": {},
   "outputs": [
    {
     "data": {
      "text/plain": [
       "{'EX_aso3_e': 1000.0,\n",
       " 'EX_aso4_e': 1000.0,\n",
       " 'EX_ca2_e': 1000.0,\n",
       " 'EX_cl_e': 1000.0,\n",
       " 'EX_cobalt2_e': 1000.0,\n",
       " 'EX_cu2_e': 1000.0,\n",
       " 'EX_fe2_e': 1000.0,\n",
       " 'EX_fe3_e': 1000.0,\n",
       " 'EX_glc__D_e': 1000.0,\n",
       " 'EX_h2_e': 1000.0,\n",
       " 'EX_h2o2_e': 1000.0,\n",
       " 'EX_h2o_e': 1000.0,\n",
       " 'EX_h2s_e': 1000.0,\n",
       " 'EX_h_e': 1000.0,\n",
       " 'EX_k_e': 1000.0,\n",
       " 'EX_mg2_e': 1000.0,\n",
       " 'EX_mn2_e': 1000.0,\n",
       " 'EX_mobd_e': 1000.0,\n",
       " 'EX_nh4_e': 1000.0,\n",
       " 'EX_no2_e': 1000.0,\n",
       " 'EX_no3_e': 1000.0,\n",
       " 'EX_no_e': 1000.0,\n",
       " 'EX_o2_e': 1000.0,\n",
       " 'EX_pi_e': 1000.0,\n",
       " 'EX_so3_e': 1000.0,\n",
       " 'EX_so4_e': 1000.0,\n",
       " 'EX_tsul_e': 1000.0,\n",
       " 'EX_zn2_e': 1000.0}"
      ]
     },
     "execution_count": 12,
     "metadata": {},
     "output_type": "execute_result"
    }
   ],
   "source": [
    "glucose_experiments[0].strain.model.medium"
   ]
  },
  {
   "cell_type": "code",
   "execution_count": 13,
   "metadata": {},
   "outputs": [
    {
     "name": "stderr",
     "output_type": "stream",
     "text": [
      "/home/helen/Documents/PhD/Segre Lab/GEM2CUE/gem2cue/utils.py:109: UserWarning: There is already a cue value saved to this experiment, running will overwrite those results\n",
      "  warnings.warn('There is already a cue value saved to this experiment, running will overwrite those results')\n",
      "/home/helen/Documents/PhD/Segre Lab/GEM2CUE/gem2cue/utils.py:109: UserWarning: There is already a cue value saved to this experiment, running will overwrite those results\n",
      "  warnings.warn('There is already a cue value saved to this experiment, running will overwrite those results')\n",
      "/home/helen/Documents/PhD/Segre Lab/GEM2CUE/gem2cue/utils.py:109: UserWarning: There is already a cue value saved to this experiment, running will overwrite those results\n",
      "  warnings.warn('There is already a cue value saved to this experiment, running will overwrite those results')\n",
      "/home/helen/Documents/PhD/Segre Lab/GEM2CUE/gem2cue/utils.py:109: UserWarning: There is already a cue value saved to this experiment, running will overwrite those results\n",
      "  warnings.warn('There is already a cue value saved to this experiment, running will overwrite those results')\n",
      "/home/helen/Documents/PhD/Segre Lab/GEM2CUE/gem2cue/utils.py:109: UserWarning: There is already a cue value saved to this experiment, running will overwrite those results\n",
      "  warnings.warn('There is already a cue value saved to this experiment, running will overwrite those results')\n",
      "/home/helen/Documents/PhD/Segre Lab/GEM2CUE/gem2cue/utils.py:109: UserWarning: There is already a cue value saved to this experiment, running will overwrite those results\n",
      "  warnings.warn('There is already a cue value saved to this experiment, running will overwrite those results')\n",
      "/home/helen/Documents/PhD/Segre Lab/GEM2CUE/gem2cue/utils.py:109: UserWarning: There is already a cue value saved to this experiment, running will overwrite those results\n",
      "  warnings.warn('There is already a cue value saved to this experiment, running will overwrite those results')\n",
      "/home/helen/Documents/PhD/Segre Lab/GEM2CUE/gem2cue/utils.py:109: UserWarning: There is already a cue value saved to this experiment, running will overwrite those results\n",
      "  warnings.warn('There is already a cue value saved to this experiment, running will overwrite those results')\n",
      "/home/helen/Documents/PhD/Segre Lab/GEM2CUE/gem2cue/utils.py:109: UserWarning: There is already a cue value saved to this experiment, running will overwrite those results\n",
      "  warnings.warn('There is already a cue value saved to this experiment, running will overwrite those results')\n",
      "/home/helen/Documents/PhD/Segre Lab/GEM2CUE/gem2cue/utils.py:109: UserWarning: There is already a cue value saved to this experiment, running will overwrite those results\n",
      "  warnings.warn('There is already a cue value saved to this experiment, running will overwrite those results')\n",
      "/home/helen/Documents/PhD/Segre Lab/GEM2CUE/gem2cue/utils.py:109: UserWarning: There is already a cue value saved to this experiment, running will overwrite those results\n",
      "  warnings.warn('There is already a cue value saved to this experiment, running will overwrite those results')\n",
      "/home/helen/Documents/PhD/Segre Lab/GEM2CUE/gem2cue/utils.py:109: UserWarning: There is already a cue value saved to this experiment, running will overwrite those results\n",
      "  warnings.warn('There is already a cue value saved to this experiment, running will overwrite those results')\n",
      "/home/helen/Documents/PhD/Segre Lab/GEM2CUE/gem2cue/utils.py:109: UserWarning: There is already a cue value saved to this experiment, running will overwrite those results\n",
      "  warnings.warn('There is already a cue value saved to this experiment, running will overwrite those results')\n",
      "/home/helen/Documents/PhD/Segre Lab/GEM2CUE/gem2cue/utils.py:109: UserWarning: There is already a cue value saved to this experiment, running will overwrite those results\n",
      "  warnings.warn('There is already a cue value saved to this experiment, running will overwrite those results')\n",
      "/home/helen/Documents/PhD/Segre Lab/GEM2CUE/gem2cue/utils.py:109: UserWarning: There is already a cue value saved to this experiment, running will overwrite those results\n",
      "  warnings.warn('There is already a cue value saved to this experiment, running will overwrite those results')\n",
      "/home/helen/Documents/PhD/Segre Lab/GEM2CUE/gem2cue/utils.py:109: UserWarning: There is already a cue value saved to this experiment, running will overwrite those results\n",
      "  warnings.warn('There is already a cue value saved to this experiment, running will overwrite those results')\n"
     ]
    }
   ],
   "source": [
    "# Calculate CUE for all of the Experiments\n",
    "for exp in glucose_experiments:\n",
    "    exp.CUE(ex_nomenclature = {'C_e'})"
   ]
  },
  {
   "cell_type": "code",
   "execution_count": 14,
   "metadata": {},
   "outputs": [
    {
     "data": {
      "text/plain": [
       "{'EX_aso3_e': 1000.0,\n",
       " 'EX_aso4_e': 1000.0,\n",
       " 'EX_ca2_e': 1000.0,\n",
       " 'EX_cl_e': 1000.0,\n",
       " 'EX_cobalt2_e': 1000.0,\n",
       " 'EX_cu2_e': 1000.0,\n",
       " 'EX_fe2_e': 1000.0,\n",
       " 'EX_fe3_e': 1000.0,\n",
       " 'EX_glc__D_e': 1000.0,\n",
       " 'EX_h2_e': 1000.0,\n",
       " 'EX_h2o2_e': 1000.0,\n",
       " 'EX_h2o_e': 1000.0,\n",
       " 'EX_h2s_e': 1000.0,\n",
       " 'EX_h_e': 1000.0,\n",
       " 'EX_k_e': 1000.0,\n",
       " 'EX_mg2_e': 1000.0,\n",
       " 'EX_mn2_e': 1000.0,\n",
       " 'EX_mobd_e': 1000.0,\n",
       " 'EX_nh4_e': 1000.0,\n",
       " 'EX_no2_e': 1000.0,\n",
       " 'EX_no3_e': 1000.0,\n",
       " 'EX_no_e': 1000.0,\n",
       " 'EX_o2_e': 1000.0,\n",
       " 'EX_pi_e': 1000.0,\n",
       " 'EX_so3_e': 1000.0,\n",
       " 'EX_so4_e': 1000.0,\n",
       " 'EX_tsul_e': 1000.0,\n",
       " 'EX_zn2_e': 1000.0}"
      ]
     },
     "execution_count": 14,
     "metadata": {},
     "output_type": "execute_result"
    }
   ],
   "source": [
    "glucose_experiments[0].strain.model.medium"
   ]
  },
  {
   "cell_type": "code",
   "execution_count": 15,
   "metadata": {},
   "outputs": [
    {
     "data": {
      "text/plain": [
       "[0.6865607774050599,\n",
       " 0.7017981841156299,\n",
       " 0.6878920803972508,\n",
       " None,\n",
       " None,\n",
       " 0.8353794723276078,\n",
       " 0.7499679334312341,\n",
       " None,\n",
       " 0.8470794854270659,\n",
       " 0.841940199251723,\n",
       " 0.7492616902585909,\n",
       " 0.7778933161683088,\n",
       " None,\n",
       " 0.7443779588693178,\n",
       " 0.5617618691024199,\n",
       " 0.8333333333333334,\n",
       " 0.6879654847916286,\n",
       " 0.8333333333333334,\n",
       " 0.6904566834618701,\n",
       " 0.8333333333333334]"
      ]
     },
     "execution_count": 15,
     "metadata": {},
     "output_type": "execute_result"
    }
   ],
   "source": [
    "[exp.cue for exp in glucose_experiments]"
   ]
  },
  {
   "cell_type": "markdown",
   "metadata": {},
   "source": [
    "### Experiment 2: Acetate"
   ]
  },
  {
   "cell_type": "code",
   "execution_count": null,
   "metadata": {},
   "outputs": [],
   "source": [
    "# Copy the medium from one of the models\n",
    "ace_media = strain_list[0].model.medium\n",
    "# It already has acetate, just need to remove glucose\n",
    "ace_media['EX_glc__D_e'] = 0"
   ]
  },
  {
   "cell_type": "code",
   "execution_count": null,
   "metadata": {},
   "outputs": [],
   "source": [
    "# Make an experiment for each Strain\n",
    "ace_experiments = [gem2cue.utils.Experiment(strain, ace_media) for strain in strain_list]"
   ]
  },
  {
   "cell_type": "code",
   "execution_count": null,
   "metadata": {},
   "outputs": [],
   "source": [
    "# Calculate CUE for all of the Experiments\n",
    "for exp in ace_experiments:\n",
    "    exp.CUE(ex_nomenclature = {'C_e'})"
   ]
  },
  {
   "cell_type": "code",
   "execution_count": null,
   "metadata": {},
   "outputs": [],
   "source": [
    "[exp.cue for exp in ace_experiments]"
   ]
  },
  {
   "cell_type": "markdown",
   "metadata": {},
   "source": [
    "## Visualization"
   ]
  }
 ],
 "metadata": {
  "interpreter": {
   "hash": "5738af83359ec7a2b9570cae5e2763b1046e8f6040b9e30e1a0700c51718e2dd"
  },
  "kernelspec": {
   "display_name": "Python 3.10.4 ('GRC')",
   "language": "python",
   "name": "python3"
  },
  "language_info": {
   "codemirror_mode": {
    "name": "ipython",
    "version": 3
   },
   "file_extension": ".py",
   "mimetype": "text/x-python",
   "name": "python",
   "nbconvert_exporter": "python",
   "pygments_lexer": "ipython3",
   "version": "3.10.4"
  },
  "orig_nbformat": 4
 },
 "nbformat": 4,
 "nbformat_minor": 2
}
