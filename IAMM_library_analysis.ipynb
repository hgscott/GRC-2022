{
 "cells": [
  {
   "cell_type": "markdown",
   "metadata": {},
   "source": [
    "# Carbon Use Efficiency of Marine Heterotrophs"
   ]
  },
  {
   "cell_type": "code",
   "execution_count": 1,
   "metadata": {},
   "outputs": [],
   "source": [
    "import cobra\n",
    "import os\n",
    "import pandas as pd"
   ]
  },
  {
   "cell_type": "code",
   "execution_count": 2,
   "metadata": {},
   "outputs": [],
   "source": [
    "from scipy import stats\n",
    "import matplotlib.pyplot as plt\n",
    "import seaborn as sns"
   ]
  },
  {
   "cell_type": "code",
   "execution_count": null,
   "metadata": {},
   "outputs": [],
   "source": [
    "# Local install of gem2cue\n",
    "# Should only need to be run once\n",
    "# !python -m pip install -e /home/helen/Documents/PhD/Segre\\ Lab/GEM2CUE"
   ]
  },
  {
   "cell_type": "code",
   "execution_count": 3,
   "metadata": {},
   "outputs": [],
   "source": [
    "import gem2cue.utils"
   ]
  },
  {
   "cell_type": "markdown",
   "metadata": {},
   "source": [
    "## Set-up"
   ]
  },
  {
   "cell_type": "code",
   "execution_count": 4,
   "metadata": {},
   "outputs": [
    {
     "data": {
      "text/html": [
       "<div>\n",
       "<style scoped>\n",
       "    .dataframe tbody tr th:only-of-type {\n",
       "        vertical-align: middle;\n",
       "    }\n",
       "\n",
       "    .dataframe tbody tr th {\n",
       "        vertical-align: top;\n",
       "    }\n",
       "\n",
       "    .dataframe thead th {\n",
       "        text-align: right;\n",
       "    }\n",
       "</style>\n",
       "<table border=\"1\" class=\"dataframe\">\n",
       "  <thead>\n",
       "    <tr style=\"text-align: right;\">\n",
       "      <th></th>\n",
       "      <th>strain</th>\n",
       "      <th>model_file</th>\n",
       "      <th>gc_content</th>\n",
       "      <th>genome_length</th>\n",
       "      <th>memote_score</th>\n",
       "      <th>purely_met_rxns</th>\n",
       "    </tr>\n",
       "  </thead>\n",
       "  <tbody>\n",
       "    <tr>\n",
       "      <th>0</th>\n",
       "      <td>Bork</td>\n",
       "      <td>Bork-LB.xml</td>\n",
       "      <td>0.547278</td>\n",
       "      <td>3120143</td>\n",
       "      <td>0.87</td>\n",
       "      <td>0.6515</td>\n",
       "    </tr>\n",
       "    <tr>\n",
       "      <th>1</th>\n",
       "      <td>Dies</td>\n",
       "      <td>Dies-LB.xml</td>\n",
       "      <td>0.616316</td>\n",
       "      <td>4928223</td>\n",
       "      <td>0.70</td>\n",
       "      <td>0.5889</td>\n",
       "    </tr>\n",
       "    <tr>\n",
       "      <th>2</th>\n",
       "      <td>Hot1A3</td>\n",
       "      <td>Hot1A3-LB.xml</td>\n",
       "      <td>0.446714</td>\n",
       "      <td>4801807</td>\n",
       "      <td>0.71</td>\n",
       "      <td>0.5993</td>\n",
       "    </tr>\n",
       "    <tr>\n",
       "      <th>3</th>\n",
       "      <td>BS11</td>\n",
       "      <td>BS11-LB.xml</td>\n",
       "      <td>0.446078</td>\n",
       "      <td>4480507</td>\n",
       "      <td>0.71</td>\n",
       "      <td>0.6106</td>\n",
       "    </tr>\n",
       "    <tr>\n",
       "      <th>4</th>\n",
       "      <td>DE</td>\n",
       "      <td>DE-LB.xml</td>\n",
       "      <td>0.448687</td>\n",
       "      <td>4480937</td>\n",
       "      <td>0.70</td>\n",
       "      <td>0.6163</td>\n",
       "    </tr>\n",
       "    <tr>\n",
       "      <th>5</th>\n",
       "      <td>Cstat</td>\n",
       "      <td>Cstat-LB.xml</td>\n",
       "      <td>0.548907</td>\n",
       "      <td>2862233</td>\n",
       "      <td>0.71</td>\n",
       "      <td>0.5887</td>\n",
       "    </tr>\n",
       "    <tr>\n",
       "      <th>6</th>\n",
       "      <td>DFL12</td>\n",
       "      <td>DFL12-LB.xml</td>\n",
       "      <td>0.655246</td>\n",
       "      <td>4417868</td>\n",
       "      <td>0.71</td>\n",
       "      <td>0.6266</td>\n",
       "    </tr>\n",
       "    <tr>\n",
       "      <th>7</th>\n",
       "      <td>Kuro</td>\n",
       "      <td>Kuro-LB.xml</td>\n",
       "      <td>0.470156</td>\n",
       "      <td>3850372</td>\n",
       "      <td>0.87</td>\n",
       "      <td>0.6224</td>\n",
       "    </tr>\n",
       "    <tr>\n",
       "      <th>8</th>\n",
       "      <td>HP15</td>\n",
       "      <td>HP15-LB.xml</td>\n",
       "      <td>0.568599</td>\n",
       "      <td>4651725</td>\n",
       "      <td>0.87</td>\n",
       "      <td>0.6182</td>\n",
       "    </tr>\n",
       "    <tr>\n",
       "      <th>9</th>\n",
       "      <td>MMB1</td>\n",
       "      <td>MMB1-LB.xml</td>\n",
       "      <td>0.441275</td>\n",
       "      <td>4684316</td>\n",
       "      <td>0.70</td>\n",
       "      <td>0.5675</td>\n",
       "    </tr>\n",
       "    <tr>\n",
       "      <th>10</th>\n",
       "      <td>Abie</td>\n",
       "      <td>Abie-LB.xml</td>\n",
       "      <td>0.594365</td>\n",
       "      <td>7222451</td>\n",
       "      <td>0.87</td>\n",
       "      <td>0.5790</td>\n",
       "    </tr>\n",
       "    <tr>\n",
       "      <th>11</th>\n",
       "      <td>DSS-3</td>\n",
       "      <td>DSS-3-LB.xml</td>\n",
       "      <td>0.640696</td>\n",
       "      <td>4601048</td>\n",
       "      <td>0.70</td>\n",
       "      <td>0.6249</td>\n",
       "    </tr>\n",
       "    <tr>\n",
       "      <th>12</th>\n",
       "      <td>atlcs</td>\n",
       "      <td>atlcs-LB.xml</td>\n",
       "      <td>0.339000</td>\n",
       "      <td>2952962</td>\n",
       "      <td>0.88</td>\n",
       "      <td>0.6390</td>\n",
       "    </tr>\n",
       "    <tr>\n",
       "      <th>13</th>\n",
       "      <td>eryth</td>\n",
       "      <td>eryth-LB.xml</td>\n",
       "      <td>0.623083</td>\n",
       "      <td>6895538</td>\n",
       "      <td>0.70</td>\n",
       "      <td>0.6249</td>\n",
       "    </tr>\n",
       "    <tr>\n",
       "      <th>14</th>\n",
       "      <td>Pga11</td>\n",
       "      <td>Pga11-LB.xml</td>\n",
       "      <td>0.594374</td>\n",
       "      <td>4540155</td>\n",
       "      <td>0.70</td>\n",
       "      <td>0.6075</td>\n",
       "    </tr>\n",
       "    <tr>\n",
       "      <th>15</th>\n",
       "      <td>Phalo</td>\n",
       "      <td>Phalo-LB.xml</td>\n",
       "      <td>0.400917</td>\n",
       "      <td>3850272</td>\n",
       "      <td>0.71</td>\n",
       "      <td>0.5463</td>\n",
       "    </tr>\n",
       "    <tr>\n",
       "      <th>16</th>\n",
       "      <td>Salex</td>\n",
       "      <td>Salex-LB.xml</td>\n",
       "      <td>0.607863</td>\n",
       "      <td>4258722</td>\n",
       "      <td>0.87</td>\n",
       "      <td>0.6169</td>\n",
       "    </tr>\n",
       "    <tr>\n",
       "      <th>17</th>\n",
       "      <td>Ser</td>\n",
       "      <td>Ser-LB.xml</td>\n",
       "      <td>0.492348</td>\n",
       "      <td>4947661</td>\n",
       "      <td>0.86</td>\n",
       "      <td>0.5074</td>\n",
       "    </tr>\n",
       "    <tr>\n",
       "      <th>18</th>\n",
       "      <td>T6C</td>\n",
       "      <td>T6C-LB.xml</td>\n",
       "      <td>0.446161</td>\n",
       "      <td>5187005</td>\n",
       "      <td>0.71</td>\n",
       "      <td>0.6091</td>\n",
       "    </tr>\n",
       "    <tr>\n",
       "      <th>19</th>\n",
       "      <td>Woodyi</td>\n",
       "      <td>Woodyi-LB.xml</td>\n",
       "      <td>0.437010</td>\n",
       "      <td>5935403</td>\n",
       "      <td>0.87</td>\n",
       "      <td>0.5591</td>\n",
       "    </tr>\n",
       "  </tbody>\n",
       "</table>\n",
       "</div>"
      ],
      "text/plain": [
       "    strain     model_file  gc_content  genome_length  memote_score  \\\n",
       "0     Bork    Bork-LB.xml    0.547278        3120143          0.87   \n",
       "1     Dies    Dies-LB.xml    0.616316        4928223          0.70   \n",
       "2   Hot1A3  Hot1A3-LB.xml    0.446714        4801807          0.71   \n",
       "3     BS11    BS11-LB.xml    0.446078        4480507          0.71   \n",
       "4       DE      DE-LB.xml    0.448687        4480937          0.70   \n",
       "5    Cstat   Cstat-LB.xml    0.548907        2862233          0.71   \n",
       "6    DFL12   DFL12-LB.xml    0.655246        4417868          0.71   \n",
       "7     Kuro    Kuro-LB.xml    0.470156        3850372          0.87   \n",
       "8     HP15    HP15-LB.xml    0.568599        4651725          0.87   \n",
       "9     MMB1    MMB1-LB.xml    0.441275        4684316          0.70   \n",
       "10    Abie    Abie-LB.xml    0.594365        7222451          0.87   \n",
       "11   DSS-3   DSS-3-LB.xml    0.640696        4601048          0.70   \n",
       "12   atlcs   atlcs-LB.xml    0.339000        2952962          0.88   \n",
       "13   eryth   eryth-LB.xml    0.623083        6895538          0.70   \n",
       "14   Pga11   Pga11-LB.xml    0.594374        4540155          0.70   \n",
       "15   Phalo   Phalo-LB.xml    0.400917        3850272          0.71   \n",
       "16   Salex   Salex-LB.xml    0.607863        4258722          0.87   \n",
       "17     Ser     Ser-LB.xml    0.492348        4947661          0.86   \n",
       "18     T6C     T6C-LB.xml    0.446161        5187005          0.71   \n",
       "19  Woodyi  Woodyi-LB.xml    0.437010        5935403          0.87   \n",
       "\n",
       "    purely_met_rxns  \n",
       "0            0.6515  \n",
       "1            0.5889  \n",
       "2            0.5993  \n",
       "3            0.6106  \n",
       "4            0.6163  \n",
       "5            0.5887  \n",
       "6            0.6266  \n",
       "7            0.6224  \n",
       "8            0.6182  \n",
       "9            0.5675  \n",
       "10           0.5790  \n",
       "11           0.6249  \n",
       "12           0.6390  \n",
       "13           0.6249  \n",
       "14           0.6075  \n",
       "15           0.5463  \n",
       "16           0.6169  \n",
       "17           0.5074  \n",
       "18           0.6091  \n",
       "19           0.5591  "
      ]
     },
     "execution_count": 4,
     "metadata": {},
     "output_type": "execute_result"
    }
   ],
   "source": [
    "# Read in the meta-data file as a data frame\n",
    "meta_df = pd.read_csv('IAMM_models/strain_metadata.tsv', sep='\\t')\n",
    "meta_df"
   ]
  },
  {
   "cell_type": "code",
   "execution_count": 5,
   "metadata": {},
   "outputs": [
    {
     "name": "stdout",
     "output_type": "stream",
     "text": [
      "Scaling...\n",
      " A: min|aij| =  1.000e+00  max|aij| =  1.000e+00  ratio =  1.000e+00\n",
      "Problem data seem to be well scaled\n"
     ]
    }
   ],
   "source": [
    "# For each row, make a Strain object with the model and metadata from the table\n",
    "strain_list = []\n",
    "for index, row in meta_df.iterrows():\n",
    "    strain_list.append(gem2cue.utils.Strain(row['strain'],\n",
    "                                            cobra.io.read_sbml_model(os.path.join('IAMM_models', 'models', row['model_file'])),\n",
    "                                            {'GC Content': row['gc_content'],\n",
    "                                            'Genome Length': row['genome_length'],\n",
    "                                            'Memote Score': row['memote_score'],\n",
    "                                            'Purely Metabolic Rxns': row['purely_met_rxns']}))"
   ]
  },
  {
   "cell_type": "markdown",
   "metadata": {},
   "source": [
    "## Constrain the model to relevant biomass production levels\n",
    "MEMOTE says that the max biomass flux should be < 3."
   ]
  },
  {
   "cell_type": "code",
   "execution_count": 6,
   "metadata": {},
   "outputs": [
    {
     "data": {
      "text/plain": [
       "[36.954098423659175,\n",
       " 68.98783902595073,\n",
       " 59.368199045920605,\n",
       " 51.42814575046219,\n",
       " 51.26800822967742,\n",
       " 52.699138347259044,\n",
       " 73.77761996254044,\n",
       " 40.9490890286503,\n",
       " 60.49274956804522,\n",
       " 59.95926016674317,\n",
       " 77.57976294839148,\n",
       " 69.1591618725659,\n",
       " 38.00516887469422,\n",
       " 43.8387121854178,\n",
       " 40.18871103011229,\n",
       " 59.88795528224471,\n",
       " 41.69272044767435,\n",
       " 101.94667602650313,\n",
       " 67.98498571419445,\n",
       " 67.03983159862463]"
      ]
     },
     "execution_count": 6,
     "metadata": {},
     "output_type": "execute_result"
    }
   ],
   "source": [
    "# Make an experiment for each Strain and run it to get a list of the biomasses using the unconstrained media\n",
    "unconstrained_experiments = [gem2cue.utils.Experiment(strain) for strain in strain_list]\n",
    "for exp in unconstrained_experiments:\n",
    "\texp.run()\n",
    "[exp.solution.objective_value for exp in unconstrained_experiments]"
   ]
  },
  {
   "cell_type": "code",
   "execution_count": 8,
   "metadata": {},
   "outputs": [],
   "source": [
    "glc_10_media = gem2cue.utils.Media({\n",
    " 'EX_aso3_e': 1000.0,\n",
    " 'EX_aso4_e': 1000.0,\n",
    " 'EX_ca2_e': 1000.0,\n",
    " 'EX_cl_e': 1000.0,\n",
    " 'EX_cobalt2_e': 1000.0,\n",
    " 'EX_cu2_e': 1000.0,\n",
    " 'EX_fe2_e': 1000.0,\n",
    " 'EX_fe3_e': 1000.0,\n",
    " 'EX_glc__D_e': 10.0, # Glucose\n",
    " 'EX_glc__aD_e': 10.0, # Alpha glucose\n",
    " 'EX_h2_e': 1000.0,\n",
    " 'EX_h2o2_e': 1000.0,\n",
    " 'EX_h2o_e': 1000.0,\n",
    " 'EX_h2s_e': 1000.0,\n",
    " 'EX_h_e': 1000.0,\n",
    " 'EX_k_e': 1000.0,\n",
    " 'EX_mg2_e': 1000.0,\n",
    " 'EX_mn2_e': 1000.0,\n",
    " 'EX_mobd_e': 1000.0,\n",
    " 'EX_nh4_e': 1000.0,\n",
    " 'EX_no2_e': 1000.0,\n",
    " 'EX_no3_e': 1000.0,\n",
    " 'EX_no_e': 1000.0,\n",
    " 'EX_o2_e': 1000.0,\n",
    " 'EX_pi_e': 1000.0,\n",
    " 'EX_ppi_e': 1000.0, # Diphosphate\n",
    " 'EX_sel_e': 1000.0,\n",
    " 'EX_slnt_e': 1000.0,\n",
    " 'EX_so3_e': 1000.0,\n",
    " 'EX_so4_e': 1000.0,\n",
    " 'EX_tsul_e': 1000.0,\n",
    " 'EX_zn2_e': 1000.0})"
   ]
  },
  {
   "cell_type": "code",
   "execution_count": 9,
   "metadata": {},
   "outputs": [],
   "source": [
    "# Make an experiment for each Strain\n",
    "glucose_experiments = [gem2cue.utils.Experiment(strain, media=glc_10_media) for strain in strain_list]"
   ]
  },
  {
   "cell_type": "code",
   "execution_count": 10,
   "metadata": {},
   "outputs": [
    {
     "data": {
      "text/plain": [
       "[1.462269570077639,\n",
       " 1.462276698106202,\n",
       " 1.4622695699736659,\n",
       " 3.638705778613612e-15,\n",
       " 1.227841600227896e-27,\n",
       " 0.7404944029359897,\n",
       " 1.4622695703166104,\n",
       " -3.617011689028021e-28,\n",
       " 2.9245391401544554,\n",
       " 0.9722306594724321,\n",
       " 2.724111365077684,\n",
       " 1.4623323298893431,\n",
       " -1.3934894477665777e-14,\n",
       " 0.8674985310087885,\n",
       " 2.9246646597789154,\n",
       " 0.9555090524158861,\n",
       " 1.4621945932424791,\n",
       " 2.92455339510745,\n",
       " 1.4622695700747885,\n",
       " 1.4622766975531185]"
      ]
     },
     "execution_count": 10,
     "metadata": {},
     "output_type": "execute_result"
    }
   ],
   "source": [
    "# Run it and look at the biomasses again\n",
    "for exp in glucose_experiments:\n",
    "\texp.run()\n",
    "[exp.solution.objective_value for exp in glucose_experiments]"
   ]
  },
  {
   "cell_type": "markdown",
   "metadata": {},
   "source": [
    "## Analysis"
   ]
  },
  {
   "cell_type": "markdown",
   "metadata": {},
   "source": [
    "#### Glucose CUE vs Metadata"
   ]
  },
  {
   "cell_type": "code",
   "execution_count": 11,
   "metadata": {},
   "outputs": [],
   "source": [
    "# Calculate CUE for all of the Experiments\n",
    "for exp in glucose_experiments:\n",
    "    exp.CUE(ex_nomenclature = {'C_e'})"
   ]
  },
  {
   "cell_type": "markdown",
   "metadata": {},
   "source": [
    "##### CUE vs GC content"
   ]
  },
  {
   "cell_type": "code",
   "execution_count": 12,
   "metadata": {},
   "outputs": [],
   "source": [
    "cue_vals = [exp.cue for exp in glucose_experiments if exp.cue is not None]\n",
    "gc_vals = [exp.strain.metadata['GC Content'] for exp in glucose_experiments if exp.cue is not None]\n",
    "len_vals = [exp.strain.metadata['Genome Length'] for exp in glucose_experiments if exp.cue is not None]\n",
    "rxn_vals = [exp.strain.metadata['Purely Metabolic Rxns'] for exp in glucose_experiments if exp.cue is not None]\n"
   ]
  },
  {
   "cell_type": "code",
   "execution_count": 13,
   "metadata": {},
   "outputs": [
    {
     "name": "stderr",
     "output_type": "stream",
     "text": [
      "/home/helen/miniconda3/envs/GRC/lib/python3.10/site-packages/seaborn/_decorators.py:36: FutureWarning: Pass the following variables as keyword args: x, y. From version 0.12, the only valid positional argument will be `data`, and passing other arguments without an explicit keyword will result in an error or misinterpretation.\n",
      "  warnings.warn(\n"
     ]
    },
    {
     "data": {
      "image/png": "[encoded data removed]",
      "text/plain": [
       "<Figure size 432x288 with 1 Axes>"
      ]
     },
     "metadata": {
      "needs_background": "dark"
     },
     "output_type": "display_data"
    }
   ],
   "source": [
    "# Create a figure instance\n",
    "fig = plt.figure()\n",
    "\n",
    "# Create an axes instance\n",
    "ax = fig.add_axes([0,0,1,1])\n",
    "\n",
    "# get coeffs of linear fit\n",
    "slope, intercept, r_value, p_value, std_err = stats.linregress(gc_vals, cue_vals)\n",
    "\n",
    "# use line_kws to set line label for legend\n",
    "ax = sns.regplot(gc_vals, cue_vals, color='#004263',\n",
    "\tline_kws={'label':\"y={0:.1f}x+{1:.1f}\\nR:{0:.2f}\".format(slope,intercept, r_value)})\n",
    "\n",
    "# plot legend\n",
    "ax.legend()\n",
    "\n",
    "# Style\n",
    "# rcParams.update({'font.size': 40})\n",
    "\n",
    "ax.spines['top'].set_visible(False)\n",
    "ax.spines['right'].set_visible(False)\n",
    "\n",
    "ax.spines['left'].set_color('#818689')\n",
    "ax.yaxis.label.set_color('#818689')\n",
    "ax.tick_params(axis='y', colors='#818689')\n",
    "\n",
    "ax.spines['bottom'].set_color('#818689')\n",
    "ax.xaxis.label.set_color('#818689')\n",
    "ax.tick_params(axis='x', colors='#818689')\n",
    "\n",
    "# Labels\n",
    "plt.ylabel('CUE Value (%)')\n",
    "plt.xlabel('GC Content (%)')\n",
    "\n",
    "# # Show\n",
    "# fig.set_size_inches(18.5, 10.5)\n",
    "plt.show()"
   ]
  },
  {
   "cell_type": "markdown",
   "metadata": {},
   "source": [
    "##### CUE vs Genome Length"
   ]
  },
  {
   "cell_type": "code",
   "execution_count": 14,
   "metadata": {},
   "outputs": [
    {
     "name": "stderr",
     "output_type": "stream",
     "text": [
      "/home/helen/miniconda3/envs/GRC/lib/python3.10/site-packages/seaborn/_decorators.py:36: FutureWarning: Pass the following variables as keyword args: x, y. From version 0.12, the only valid positional argument will be `data`, and passing other arguments without an explicit keyword will result in an error or misinterpretation.\n",
      "  warnings.warn(\n"
     ]
    },
    {
     "data": {
      "image/png": "[encoded data removed]",
      "text/plain": [
       "<Figure size 432x288 with 1 Axes>"
      ]
     },
     "metadata": {
      "needs_background": "dark"
     },
     "output_type": "display_data"
    }
   ],
   "source": [
    "# Create a figure instance\n",
    "fig = plt.figure()\n",
    "\n",
    "# Create an axes instance\n",
    "ax = fig.add_axes([0,0,1,1])\n",
    "\n",
    "# get coeffs of linear fit\n",
    "slope, intercept, r_value, p_value, std_err = stats.linregress(len_vals, cue_vals)\n",
    "\n",
    "# use line_kws to set line label for legend\n",
    "ax = sns.regplot(len_vals, cue_vals, color='#004263',\n",
    "\tline_kws={'label':\"y={0:.1f}x+{1:.1f}\\nR:{0:.2f}\".format(slope,intercept, r_value)})\n",
    "\n",
    "# plot legend\n",
    "ax.legend()\n",
    "\n",
    "# Style\n",
    "# rcParams.update({'font.size': 40})\n",
    "\n",
    "ax.spines['top'].set_visible(False)\n",
    "ax.spines['right'].set_visible(False)\n",
    "\n",
    "ax.spines['left'].set_color('#818689')\n",
    "ax.yaxis.label.set_color('#818689')\n",
    "ax.tick_params(axis='y', colors='#818689')\n",
    "\n",
    "ax.spines['bottom'].set_color('#818689')\n",
    "ax.xaxis.label.set_color('#818689')\n",
    "ax.tick_params(axis='x', colors='#818689')\n",
    "\n",
    "# Labels\n",
    "plt.ylabel('CUE Value (%)')\n",
    "plt.xlabel('Genome Length (Mb)')\n",
    "\n",
    "# # Show\n",
    "# fig.set_size_inches(18.5, 10.5)\n",
    "plt.show()"
   ]
  },
  {
   "cell_type": "markdown",
   "metadata": {},
   "source": [
    "##### CUE vs % of Purely Metabolic Reactions"
   ]
  },
  {
   "cell_type": "code",
   "execution_count": 15,
   "metadata": {},
   "outputs": [
    {
     "name": "stderr",
     "output_type": "stream",
     "text": [
      "/home/helen/miniconda3/envs/GRC/lib/python3.10/site-packages/seaborn/_decorators.py:36: FutureWarning: Pass the following variables as keyword args: x, y. From version 0.12, the only valid positional argument will be `data`, and passing other arguments without an explicit keyword will result in an error or misinterpretation.\n",
      "  warnings.warn(\n"
     ]
    },
    {
     "data": {
      "image/png": "[encoded data removed]",
      "text/plain": [
       "<Figure size 432x288 with 1 Axes>"
      ]
     },
     "metadata": {
      "needs_background": "dark"
     },
     "output_type": "display_data"
    }
   ],
   "source": [
    "# Create a figure instance\n",
    "fig = plt.figure()\n",
    "\n",
    "# Create an axes instance\n",
    "ax = fig.add_axes([0,0,1,1])\n",
    "\n",
    "# get coeffs of linear fit\n",
    "slope, intercept, r_value, p_value, std_err = stats.linregress(rxn_vals, cue_vals)\n",
    "\n",
    "# use line_kws to set line label for legend\n",
    "ax = sns.regplot(rxn_vals, cue_vals, color='#004263',\n",
    "\tline_kws={'label':\"y={0:.1f}x+{1:.1f}\\nR:{0:.2f}\".format(slope,intercept, r_value)})\n",
    "\n",
    "# plot legend\n",
    "ax.legend()\n",
    "\n",
    "# Style\n",
    "# rcParams.update({'font.size': 40})\n",
    "\n",
    "ax.spines['top'].set_visible(False)\n",
    "ax.spines['right'].set_visible(False)\n",
    "\n",
    "ax.spines['left'].set_color('#818689')\n",
    "ax.yaxis.label.set_color('#818689')\n",
    "ax.tick_params(axis='y', colors='#818689')\n",
    "\n",
    "ax.spines['bottom'].set_color('#818689')\n",
    "ax.xaxis.label.set_color('#818689')\n",
    "ax.tick_params(axis='x', colors='#818689')\n",
    "\n",
    "# Labels\n",
    "plt.ylabel('CUE Value (%)')\n",
    "plt.xlabel('Purely Metabolic Reactions in Network (%)')\n",
    "\n",
    "# # Show\n",
    "# fig.set_size_inches(18.5, 10.5)\n",
    "plt.show()"
   ]
  }
 ],
 "metadata": {
  "interpreter": {
   "hash": "5738af83359ec7a2b9570cae5e2763b1046e8f6040b9e30e1a0700c51718e2dd"
  },
  "kernelspec": {
   "display_name": "Python 3.10.4 ('GRC')",
   "language": "python",
   "name": "python3"
  },
  "language_info": {
   "codemirror_mode": {
    "name": "ipython",
    "version": 3
   },
   "file_extension": ".py",
   "mimetype": "text/x-python",
   "name": "python",
   "nbconvert_exporter": "python",
   "pygments_lexer": "ipython3",
   "version": "3.10.4"
  },
  "orig_nbformat": 4
 },
 "nbformat": 4,
 "nbformat_minor": 2
}
